{
  "nbformat": 4,
  "nbformat_minor": 0,
  "metadata": {
    "colab": {
      "name": "Monitor price.ipynb",
      "provenance": [],
      "collapsed_sections": []
    },
    "kernelspec": {
      "name": "python3",
      "display_name": "Python 3"
    },
    "language_info": {
      "name": "python"
    }
  },
  "cells": [
    {
      "cell_type": "code",
      "execution_count": null,
      "metadata": {
        "id": "qi3-wSgW_48H"
      },
      "outputs": [],
      "source": [
        "import pandas as pd \n",
        "import matplotlib.pyplot as plt\n",
        "import seaborn as sns\n",
        "from sklearn.model_selection import train_test_split\n",
        "from sklearn.linear_model import LinearRegression,Lasso\n",
        "from sklearn.tree import DecisionTreeRegressor\n",
        "from sklearn.neighbors import KNeighborsRegressor\n",
        "from sklearn.ensemble import RandomForestRegressor\n",
        "from sklearn import metrics\n",
        "from imblearn.under_sampling import RandomUnderSampler,NearMiss\n",
        "from imblearn.over_sampling import RandomOverSampler,SMOTE\n",
        "from collections import Counter\n",
        "from sklearn.svm import SVR\n",
        "import numpy as np\n",
        "from sklearn.preprocessing import MinMaxScaler\n"
      ]
    },
    {
      "cell_type": "markdown",
      "source": [
        "# New section"
      ],
      "metadata": {
        "id": "uNy76g8qnetG"
      }
    },
    {
      "cell_type": "markdown",
      "source": [
        " **DATA Collection and pre-processing**"
      ],
      "metadata": {
        "id": "I88un3bYB_98"
      }
    },
    {
      "cell_type": "code",
      "source": [
        "m_dataset=pd.read_csv('/content/Monitor_data.csv')"
      ],
      "metadata": {
        "id": "K3g7mM6RCPOT"
      },
      "execution_count": null,
      "outputs": []
    },
    {
      "cell_type": "markdown",
      "source": [
        "# New Section"
      ],
      "metadata": {
        "id": "1dbB71oNVSS2"
      }
    },
    {
      "cell_type": "code",
      "source": [
        "#inspecting first 5 rows\n",
        "m_dataset.head()"
      ],
      "metadata": {
        "colab": {
          "base_uri": "https://localhost:8080/",
          "height": 206
        },
        "id": "8U-xnU7yEg_0",
        "outputId": "1d007d4a-e365-43cf-c12f-2d8f3b6469eb"
      },
      "execution_count": null,
      "outputs": [
        {
          "output_type": "execute_result",
          "data": {
            "text/html": [
              "\n",
              "  <div id=\"df-bf2869a4-0260-4c52-a4cf-65327a265b27\">\n",
              "    <div class=\"colab-df-container\">\n",
              "      <div>\n",
              "<style scoped>\n",
              "    .dataframe tbody tr th:only-of-type {\n",
              "        vertical-align: middle;\n",
              "    }\n",
              "\n",
              "    .dataframe tbody tr th {\n",
              "        vertical-align: top;\n",
              "    }\n",
              "\n",
              "    .dataframe thead th {\n",
              "        text-align: right;\n",
              "    }\n",
              "</style>\n",
              "<table border=\"1\" class=\"dataframe\">\n",
              "  <thead>\n",
              "    <tr style=\"text-align: right;\">\n",
              "      <th></th>\n",
              "      <th>Brand</th>\n",
              "      <th>Display_Type</th>\n",
              "      <th>Display_Resolution</th>\n",
              "      <th>Display_size</th>\n",
              "      <th>Response Time</th>\n",
              "      <th>Refresh Rate</th>\n",
              "      <th>Brigthness</th>\n",
              "      <th>Power_Consumption</th>\n",
              "      <th>Warrantly</th>\n",
              "      <th>Price</th>\n",
              "    </tr>\n",
              "  </thead>\n",
              "  <tbody>\n",
              "    <tr>\n",
              "      <th>0</th>\n",
              "      <td>LG</td>\n",
              "      <td>4K UHD</td>\n",
              "      <td>5120 x 2160</td>\n",
              "      <td>34.0</td>\n",
              "      <td>5.0</td>\n",
              "      <td>60</td>\n",
              "      <td>450</td>\n",
              "      <td>80.0</td>\n",
              "      <td>3</td>\n",
              "      <td>79450.0</td>\n",
              "    </tr>\n",
              "    <tr>\n",
              "      <th>1</th>\n",
              "      <td>LG</td>\n",
              "      <td>4K UHD</td>\n",
              "      <td>3840 x 2160</td>\n",
              "      <td>43.0</td>\n",
              "      <td>8.0</td>\n",
              "      <td>60</td>\n",
              "      <td>400</td>\n",
              "      <td>95.0</td>\n",
              "      <td>3</td>\n",
              "      <td>79400.0</td>\n",
              "    </tr>\n",
              "    <tr>\n",
              "      <th>2</th>\n",
              "      <td>LG</td>\n",
              "      <td>4K UHD</td>\n",
              "      <td>3840 x 2160</td>\n",
              "      <td>43.0</td>\n",
              "      <td>8.0</td>\n",
              "      <td>60</td>\n",
              "      <td>400</td>\n",
              "      <td>95.0</td>\n",
              "      <td>3</td>\n",
              "      <td>79400.0</td>\n",
              "    </tr>\n",
              "    <tr>\n",
              "      <th>3</th>\n",
              "      <td>Dell</td>\n",
              "      <td>4K UHD</td>\n",
              "      <td>3840 x 2160</td>\n",
              "      <td>31.5</td>\n",
              "      <td>5.0</td>\n",
              "      <td>60</td>\n",
              "      <td>400</td>\n",
              "      <td>50.0</td>\n",
              "      <td>3</td>\n",
              "      <td>79300.0</td>\n",
              "    </tr>\n",
              "    <tr>\n",
              "      <th>4</th>\n",
              "      <td>LG</td>\n",
              "      <td>2K QHD LED</td>\n",
              "      <td>3440 x 1440</td>\n",
              "      <td>34.0</td>\n",
              "      <td>1.0</td>\n",
              "      <td>144</td>\n",
              "      <td>320</td>\n",
              "      <td>80.0</td>\n",
              "      <td>3</td>\n",
              "      <td>78500.0</td>\n",
              "    </tr>\n",
              "  </tbody>\n",
              "</table>\n",
              "</div>\n",
              "      <button class=\"colab-df-convert\" onclick=\"convertToInteractive('df-bf2869a4-0260-4c52-a4cf-65327a265b27')\"\n",
              "              title=\"Convert this dataframe to an interactive table.\"\n",
              "              style=\"display:none;\">\n",
              "        \n",
              "  <svg xmlns=\"http://www.w3.org/2000/svg\" height=\"24px\"viewBox=\"0 0 24 24\"\n",
              "       width=\"24px\">\n",
              "    <path d=\"M0 0h24v24H0V0z\" fill=\"none\"/>\n",
              "    <path d=\"M18.56 5.44l.94 2.06.94-2.06 2.06-.94-2.06-.94-.94-2.06-.94 2.06-2.06.94zm-11 1L8.5 8.5l.94-2.06 2.06-.94-2.06-.94L8.5 2.5l-.94 2.06-2.06.94zm10 10l.94 2.06.94-2.06 2.06-.94-2.06-.94-.94-2.06-.94 2.06-2.06.94z\"/><path d=\"M17.41 7.96l-1.37-1.37c-.4-.4-.92-.59-1.43-.59-.52 0-1.04.2-1.43.59L10.3 9.45l-7.72 7.72c-.78.78-.78 2.05 0 2.83L4 21.41c.39.39.9.59 1.41.59.51 0 1.02-.2 1.41-.59l7.78-7.78 2.81-2.81c.8-.78.8-2.07 0-2.86zM5.41 20L4 18.59l7.72-7.72 1.47 1.35L5.41 20z\"/>\n",
              "  </svg>\n",
              "      </button>\n",
              "      \n",
              "  <style>\n",
              "    .colab-df-container {\n",
              "      display:flex;\n",
              "      flex-wrap:wrap;\n",
              "      gap: 12px;\n",
              "    }\n",
              "\n",
              "    .colab-df-convert {\n",
              "      background-color: #E8F0FE;\n",
              "      border: none;\n",
              "      border-radius: 50%;\n",
              "      cursor: pointer;\n",
              "      display: none;\n",
              "      fill: #1967D2;\n",
              "      height: 32px;\n",
              "      padding: 0 0 0 0;\n",
              "      width: 32px;\n",
              "    }\n",
              "\n",
              "    .colab-df-convert:hover {\n",
              "      background-color: #E2EBFA;\n",
              "      box-shadow: 0px 1px 2px rgba(60, 64, 67, 0.3), 0px 1px 3px 1px rgba(60, 64, 67, 0.15);\n",
              "      fill: #174EA6;\n",
              "    }\n",
              "\n",
              "    [theme=dark] .colab-df-convert {\n",
              "      background-color: #3B4455;\n",
              "      fill: #D2E3FC;\n",
              "    }\n",
              "\n",
              "    [theme=dark] .colab-df-convert:hover {\n",
              "      background-color: #434B5C;\n",
              "      box-shadow: 0px 1px 3px 1px rgba(0, 0, 0, 0.15);\n",
              "      filter: drop-shadow(0px 1px 2px rgba(0, 0, 0, 0.3));\n",
              "      fill: #FFFFFF;\n",
              "    }\n",
              "  </style>\n",
              "\n",
              "      <script>\n",
              "        const buttonEl =\n",
              "          document.querySelector('#df-bf2869a4-0260-4c52-a4cf-65327a265b27 button.colab-df-convert');\n",
              "        buttonEl.style.display =\n",
              "          google.colab.kernel.accessAllowed ? 'block' : 'none';\n",
              "\n",
              "        async function convertToInteractive(key) {\n",
              "          const element = document.querySelector('#df-bf2869a4-0260-4c52-a4cf-65327a265b27');\n",
              "          const dataTable =\n",
              "            await google.colab.kernel.invokeFunction('convertToInteractive',\n",
              "                                                     [key], {});\n",
              "          if (!dataTable) return;\n",
              "\n",
              "          const docLinkHtml = 'Like what you see? Visit the ' +\n",
              "            '<a target=\"_blank\" href=https://colab.research.google.com/notebooks/data_table.ipynb>data table notebook</a>'\n",
              "            + ' to learn more about interactive tables.';\n",
              "          element.innerHTML = '';\n",
              "          dataTable['output_type'] = 'display_data';\n",
              "          await google.colab.output.renderOutput(dataTable, element);\n",
              "          const docLink = document.createElement('div');\n",
              "          docLink.innerHTML = docLinkHtml;\n",
              "          element.appendChild(docLink);\n",
              "        }\n",
              "      </script>\n",
              "    </div>\n",
              "  </div>\n",
              "  "
            ],
            "text/plain": [
              "  Brand Display_Type Display_Resolution  Display_size  Response Time  \\\n",
              "0    LG       4K UHD        5120 x 2160          34.0            5.0   \n",
              "1    LG       4K UHD        3840 x 2160          43.0            8.0   \n",
              "2    LG       4K UHD        3840 x 2160          43.0            8.0   \n",
              "3  Dell       4K UHD        3840 x 2160          31.5            5.0   \n",
              "4    LG   2K QHD LED        3440 x 1440          34.0            1.0   \n",
              "\n",
              "   Refresh Rate  Brigthness  Power_Consumption  Warrantly    Price  \n",
              "0            60         450               80.0          3  79450.0  \n",
              "1            60         400               95.0          3  79400.0  \n",
              "2            60         400               95.0          3  79400.0  \n",
              "3            60         400               50.0          3  79300.0  \n",
              "4           144         320               80.0          3  78500.0  "
            ]
          },
          "metadata": {},
          "execution_count": 10
        }
      ]
    },
    {
      "cell_type": "code",
      "source": [
        "#shape of the data\n",
        "m_dataset.shape"
      ],
      "metadata": {
        "colab": {
          "base_uri": "https://localhost:8080/"
        },
        "id": "5Ui4hEJGErpr",
        "outputId": "b7c86040-4e89-45f7-ec3a-a437f890daf5"
      },
      "execution_count": null,
      "outputs": [
        {
          "output_type": "execute_result",
          "data": {
            "text/plain": [
              "(294, 10)"
            ]
          },
          "metadata": {},
          "execution_count": 51
        }
      ]
    },
    {
      "cell_type": "code",
      "source": [
        "#info about the dataset\n",
        "m_dataset.info()"
      ],
      "metadata": {
        "colab": {
          "base_uri": "https://localhost:8080/"
        },
        "id": "6YCNtoecFSuh",
        "outputId": "de1a0252-5fb8-4b2b-a290-25975632f799"
      },
      "execution_count": null,
      "outputs": [
        {
          "output_type": "stream",
          "name": "stdout",
          "text": [
            "<class 'pandas.core.frame.DataFrame'>\n",
            "RangeIndex: 294 entries, 0 to 293\n",
            "Data columns (total 10 columns):\n",
            " #   Column              Non-Null Count  Dtype  \n",
            "---  ------              --------------  -----  \n",
            " 0   Brand               294 non-null    object \n",
            " 1   Display_Type        294 non-null    object \n",
            " 2   Display_Resolution  294 non-null    object \n",
            " 3   Display_size        294 non-null    float64\n",
            " 4   Response Time       294 non-null    float64\n",
            " 5   Refresh Rate        294 non-null    int64  \n",
            " 6   Brigthness          294 non-null    int64  \n",
            " 7   Power_Consumption   294 non-null    float64\n",
            " 8   Warrantly           294 non-null    int64  \n",
            " 9   Price               294 non-null    float64\n",
            "dtypes: float64(4), int64(3), object(3)\n",
            "memory usage: 23.1+ KB\n"
          ]
        }
      ]
    },
    {
      "cell_type": "code",
      "source": [
        "m_dataset.isnull().sum()"
      ],
      "metadata": {
        "colab": {
          "base_uri": "https://localhost:8080/"
        },
        "id": "Rra5ooThFiu9",
        "outputId": "b1512f17-8644-461d-c507-10d0ee431944"
      },
      "execution_count": null,
      "outputs": [
        {
          "output_type": "execute_result",
          "data": {
            "text/plain": [
              "Brand                 0\n",
              "Display_Type          0\n",
              "Display_Resolution    0\n",
              "Display_size          0\n",
              "Response Time         0\n",
              "Refresh Rate          0\n",
              "Brigthness            0\n",
              "Power_Consumption     0\n",
              "Warrantly             0\n",
              "Price                 0\n",
              "dtype: int64"
            ]
          },
          "metadata": {},
          "execution_count": 53
        }
      ]
    },
    {
      "cell_type": "code",
      "source": [
        "#checking the distribution\n",
        "print(m_dataset.Brand.value_counts())\n",
        "print(m_dataset.Display_Type.value_counts())\n",
        "print(m_dataset.Display_Resolution.value_counts())\n",
        "\n"
      ],
      "metadata": {
        "colab": {
          "base_uri": "https://localhost:8080/"
        },
        "id": "I6Ehg1vUKRcC",
        "outputId": "64d8a49d-8bcf-45de-d47f-90146bcd021e"
      },
      "execution_count": null,
      "outputs": [
        {
          "output_type": "stream",
          "name": "stdout",
          "text": [
            "Dell       60\n",
            "HP         60\n",
            "LG         59\n",
            "Asus       59\n",
            "Samsung    56\n",
            "Name: Brand, dtype: int64\n",
            "FHD LED        112\n",
            "FHD IPS         59\n",
            "CURVED VA       30\n",
            "4K UHD          28\n",
            "HD LED          23\n",
            "2K QHD LED      18\n",
            "CURVED LED      12\n",
            "2K WQHD LED     12\n",
            "Name: Display_Type, dtype: int64\n",
            "1920 x 1080    163\n",
            "2560 x 1440     52\n",
            "3840 x 2160     39\n",
            "1366 x 768      18\n",
            "3440 x 1440      9\n",
            "5120 x 2160      6\n",
            "1600 x 900       4\n",
            "1280 x 1024      2\n",
            "2560 x 1600      1\n",
            "Name: Display_Resolution, dtype: int64\n"
          ]
        }
      ]
    },
    {
      "cell_type": "code",
      "source": [
        "\n",
        "#encoding\n",
        "m_dataset.replace({'Brand':{'HP':0,'Dell':1,'LG':2,'Asus':3,'Samsung':4}},inplace=True)\n",
        "m_dataset.replace({'Display_Type':{'FHD LED':0,'FHD IPS':1,'HD LED':2,'CURVED VA':3,\n",
        "'CURVED LED':4,'4K UHD':5,'2K QHD LED':6,'2K WQHD LED':7,\n",
        "\n",
        "}},inplace=True)\n",
        "\n",
        "\n",
        "m_dataset.replace({'Display_Resolution':{'1920 x 1080':0,'2560 x 1440':1,'3840 x 2160':2,'1366 x 768':3,\n",
        "'3440 x 1440':4,'5120 x 2160':5,'1600 x 900':6,'1280 x 1024':7,'2560 x 1600':8,\n",
        "}},inplace=True)\n",
        "\n",
        "\n",
        "\n"
      ],
      "metadata": {
        "id": "ZpBKX8ZVlpgt"
      },
      "execution_count": null,
      "outputs": []
    },
    {
      "cell_type": "code",
      "source": [
        "m_dataset.head()"
      ],
      "metadata": {
        "colab": {
          "base_uri": "https://localhost:8080/",
          "height": 206
        },
        "id": "rb0Rn2s4s4gu",
        "outputId": "0cfbf250-ec34-40f6-e107-ff8fef133219"
      },
      "execution_count": null,
      "outputs": [
        {
          "output_type": "execute_result",
          "data": {
            "text/html": [
              "\n",
              "  <div id=\"df-907a7f7b-3005-4e1c-8d33-68eb9eb54818\">\n",
              "    <div class=\"colab-df-container\">\n",
              "      <div>\n",
              "<style scoped>\n",
              "    .dataframe tbody tr th:only-of-type {\n",
              "        vertical-align: middle;\n",
              "    }\n",
              "\n",
              "    .dataframe tbody tr th {\n",
              "        vertical-align: top;\n",
              "    }\n",
              "\n",
              "    .dataframe thead th {\n",
              "        text-align: right;\n",
              "    }\n",
              "</style>\n",
              "<table border=\"1\" class=\"dataframe\">\n",
              "  <thead>\n",
              "    <tr style=\"text-align: right;\">\n",
              "      <th></th>\n",
              "      <th>Brand</th>\n",
              "      <th>Display_Type</th>\n",
              "      <th>Display_Resolution</th>\n",
              "      <th>Display_size</th>\n",
              "      <th>Response Time</th>\n",
              "      <th>Refresh Rate</th>\n",
              "      <th>Brigthness</th>\n",
              "      <th>Power_Consumption</th>\n",
              "      <th>Warrantly</th>\n",
              "      <th>Price</th>\n",
              "    </tr>\n",
              "  </thead>\n",
              "  <tbody>\n",
              "    <tr>\n",
              "      <th>0</th>\n",
              "      <td>2</td>\n",
              "      <td>5</td>\n",
              "      <td>5</td>\n",
              "      <td>34.0</td>\n",
              "      <td>5.0</td>\n",
              "      <td>60</td>\n",
              "      <td>450</td>\n",
              "      <td>80.0</td>\n",
              "      <td>3</td>\n",
              "      <td>79450.0</td>\n",
              "    </tr>\n",
              "    <tr>\n",
              "      <th>1</th>\n",
              "      <td>2</td>\n",
              "      <td>5</td>\n",
              "      <td>2</td>\n",
              "      <td>43.0</td>\n",
              "      <td>8.0</td>\n",
              "      <td>60</td>\n",
              "      <td>400</td>\n",
              "      <td>95.0</td>\n",
              "      <td>3</td>\n",
              "      <td>79400.0</td>\n",
              "    </tr>\n",
              "    <tr>\n",
              "      <th>2</th>\n",
              "      <td>2</td>\n",
              "      <td>5</td>\n",
              "      <td>2</td>\n",
              "      <td>43.0</td>\n",
              "      <td>8.0</td>\n",
              "      <td>60</td>\n",
              "      <td>400</td>\n",
              "      <td>95.0</td>\n",
              "      <td>3</td>\n",
              "      <td>79400.0</td>\n",
              "    </tr>\n",
              "    <tr>\n",
              "      <th>3</th>\n",
              "      <td>1</td>\n",
              "      <td>5</td>\n",
              "      <td>2</td>\n",
              "      <td>31.5</td>\n",
              "      <td>5.0</td>\n",
              "      <td>60</td>\n",
              "      <td>400</td>\n",
              "      <td>50.0</td>\n",
              "      <td>3</td>\n",
              "      <td>79300.0</td>\n",
              "    </tr>\n",
              "    <tr>\n",
              "      <th>4</th>\n",
              "      <td>2</td>\n",
              "      <td>6</td>\n",
              "      <td>4</td>\n",
              "      <td>34.0</td>\n",
              "      <td>1.0</td>\n",
              "      <td>144</td>\n",
              "      <td>320</td>\n",
              "      <td>80.0</td>\n",
              "      <td>3</td>\n",
              "      <td>78500.0</td>\n",
              "    </tr>\n",
              "  </tbody>\n",
              "</table>\n",
              "</div>\n",
              "      <button class=\"colab-df-convert\" onclick=\"convertToInteractive('df-907a7f7b-3005-4e1c-8d33-68eb9eb54818')\"\n",
              "              title=\"Convert this dataframe to an interactive table.\"\n",
              "              style=\"display:none;\">\n",
              "        \n",
              "  <svg xmlns=\"http://www.w3.org/2000/svg\" height=\"24px\"viewBox=\"0 0 24 24\"\n",
              "       width=\"24px\">\n",
              "    <path d=\"M0 0h24v24H0V0z\" fill=\"none\"/>\n",
              "    <path d=\"M18.56 5.44l.94 2.06.94-2.06 2.06-.94-2.06-.94-.94-2.06-.94 2.06-2.06.94zm-11 1L8.5 8.5l.94-2.06 2.06-.94-2.06-.94L8.5 2.5l-.94 2.06-2.06.94zm10 10l.94 2.06.94-2.06 2.06-.94-2.06-.94-.94-2.06-.94 2.06-2.06.94z\"/><path d=\"M17.41 7.96l-1.37-1.37c-.4-.4-.92-.59-1.43-.59-.52 0-1.04.2-1.43.59L10.3 9.45l-7.72 7.72c-.78.78-.78 2.05 0 2.83L4 21.41c.39.39.9.59 1.41.59.51 0 1.02-.2 1.41-.59l7.78-7.78 2.81-2.81c.8-.78.8-2.07 0-2.86zM5.41 20L4 18.59l7.72-7.72 1.47 1.35L5.41 20z\"/>\n",
              "  </svg>\n",
              "      </button>\n",
              "      \n",
              "  <style>\n",
              "    .colab-df-container {\n",
              "      display:flex;\n",
              "      flex-wrap:wrap;\n",
              "      gap: 12px;\n",
              "    }\n",
              "\n",
              "    .colab-df-convert {\n",
              "      background-color: #E8F0FE;\n",
              "      border: none;\n",
              "      border-radius: 50%;\n",
              "      cursor: pointer;\n",
              "      display: none;\n",
              "      fill: #1967D2;\n",
              "      height: 32px;\n",
              "      padding: 0 0 0 0;\n",
              "      width: 32px;\n",
              "    }\n",
              "\n",
              "    .colab-df-convert:hover {\n",
              "      background-color: #E2EBFA;\n",
              "      box-shadow: 0px 1px 2px rgba(60, 64, 67, 0.3), 0px 1px 3px 1px rgba(60, 64, 67, 0.15);\n",
              "      fill: #174EA6;\n",
              "    }\n",
              "\n",
              "    [theme=dark] .colab-df-convert {\n",
              "      background-color: #3B4455;\n",
              "      fill: #D2E3FC;\n",
              "    }\n",
              "\n",
              "    [theme=dark] .colab-df-convert:hover {\n",
              "      background-color: #434B5C;\n",
              "      box-shadow: 0px 1px 3px 1px rgba(0, 0, 0, 0.15);\n",
              "      filter: drop-shadow(0px 1px 2px rgba(0, 0, 0, 0.3));\n",
              "      fill: #FFFFFF;\n",
              "    }\n",
              "  </style>\n",
              "\n",
              "      <script>\n",
              "        const buttonEl =\n",
              "          document.querySelector('#df-907a7f7b-3005-4e1c-8d33-68eb9eb54818 button.colab-df-convert');\n",
              "        buttonEl.style.display =\n",
              "          google.colab.kernel.accessAllowed ? 'block' : 'none';\n",
              "\n",
              "        async function convertToInteractive(key) {\n",
              "          const element = document.querySelector('#df-907a7f7b-3005-4e1c-8d33-68eb9eb54818');\n",
              "          const dataTable =\n",
              "            await google.colab.kernel.invokeFunction('convertToInteractive',\n",
              "                                                     [key], {});\n",
              "          if (!dataTable) return;\n",
              "\n",
              "          const docLinkHtml = 'Like what you see? Visit the ' +\n",
              "            '<a target=\"_blank\" href=https://colab.research.google.com/notebooks/data_table.ipynb>data table notebook</a>'\n",
              "            + ' to learn more about interactive tables.';\n",
              "          element.innerHTML = '';\n",
              "          dataTable['output_type'] = 'display_data';\n",
              "          await google.colab.output.renderOutput(dataTable, element);\n",
              "          const docLink = document.createElement('div');\n",
              "          docLink.innerHTML = docLinkHtml;\n",
              "          element.appendChild(docLink);\n",
              "        }\n",
              "      </script>\n",
              "    </div>\n",
              "  </div>\n",
              "  "
            ],
            "text/plain": [
              "   Brand  Display_Type  Display_Resolution  Display_size  Response Time  \\\n",
              "0      2             5                   5          34.0            5.0   \n",
              "1      2             5                   2          43.0            8.0   \n",
              "2      2             5                   2          43.0            8.0   \n",
              "3      1             5                   2          31.5            5.0   \n",
              "4      2             6                   4          34.0            1.0   \n",
              "\n",
              "   Refresh Rate  Brigthness  Power_Consumption  Warrantly    Price  \n",
              "0            60         450               80.0          3  79450.0  \n",
              "1            60         400               95.0          3  79400.0  \n",
              "2            60         400               95.0          3  79400.0  \n",
              "3            60         400               50.0          3  79300.0  \n",
              "4           144         320               80.0          3  78500.0  "
            ]
          },
          "metadata": {},
          "execution_count": 14
        }
      ]
    },
    {
      "cell_type": "markdown",
      "source": [
        "Splitting data and target"
      ],
      "metadata": {
        "id": "ccZU3uV9z0iZ"
      }
    },
    {
      "cell_type": "markdown",
      "source": [
        ""
      ],
      "metadata": {
        "id": "5tosYnAb1Qs1"
      }
    },
    {
      "cell_type": "code",
      "source": [
        "\n",
        "#seperating the Predicted feature from the target feature\n",
        "\n",
        "dependent='Price'\n",
        "independent=m_dataset.columns.tolist()\n",
        "independent.remove(dependent)\n",
        "X=m_dataset[independent].values\n",
        "Y=m_dataset[dependent].values\n",
        "Y=Y.reshape(-1,1)\n",
        "\n",
        "\n",
        "\n",
        "\n",
        "#X=m_dataset.drop(['Price','Display_Resolution'],axis=1)\n",
        "#Y=m_dataset['Price']"
      ],
      "metadata": {
        "id": "1po2bvLYz8fo"
      },
      "execution_count": null,
      "outputs": []
    },
    {
      "cell_type": "code",
      "source": [
        "print(X)"
      ],
      "metadata": {
        "colab": {
          "base_uri": "https://localhost:8080/"
        },
        "id": "FUWkAlko0yKH",
        "outputId": "2d0fbd1e-2587-4adc-af0b-98da37b88698"
      },
      "execution_count": null,
      "outputs": [
        {
          "output_type": "stream",
          "name": "stdout",
          "text": [
            "[[  2.   5.   5. ... 450.  80.   3.]\n",
            " [  2.   5.   2. ... 400.  95.   3.]\n",
            " [  2.   5.   2. ... 400.  95.   3.]\n",
            " ...\n",
            " [  1.   1.   7. ... 250.  14.   3.]\n",
            " [  0.   1.   0. ... 250.  68.   3.]\n",
            " [  1.   2.   3. ... 200.  11.   3.]]\n"
          ]
        }
      ]
    },
    {
      "cell_type": "markdown",
      "source": [
        "Splitting training and test data"
      ],
      "metadata": {
        "id": "PJRPdGfC1XBt"
      }
    },
    {
      "cell_type": "code",
      "source": [
        "X_train,X_test,Y_train,Y_test=train_test_split(X,Y,test_size=0.1,random_state=2)\n",
        "mm=MinMaxScaler()\n",
        "# data normaliztion\n",
        "X_train=mm.fit_transform(X_train)\n",
        "X_test=mm.fit_transform(X_test)\n",
        "Y_test=mm.fit_transform(Y_test)\n",
        "Y_train=mm.fit_transform(Y_train)\n",
        "\n",
        "print(Y_train)\n"
      ],
      "metadata": {
        "id": "s1V_noe91Z0P",
        "colab": {
          "base_uri": "https://localhost:8080/"
        },
        "outputId": "5669a541-d94e-46e6-f2fc-7452f147ec35"
      },
      "execution_count": null,
      "outputs": [
        {
          "output_type": "stream",
          "name": "stdout",
          "text": [
            "[[0.24993631]\n",
            " [0.54929936]\n",
            " [0.15541401]\n",
            " [0.19872611]\n",
            " [0.49090446]\n",
            " [0.21146497]\n",
            " [0.30318471]\n",
            " [0.43949045]\n",
            " [0.20993631]\n",
            " [0.33121019]\n",
            " [0.89248408]\n",
            " [0.02624204]\n",
            " [0.01528662]\n",
            " [0.36636943]\n",
            " [0.27515924]\n",
            " [0.51821656]\n",
            " [0.28993631]\n",
            " [0.17070064]\n",
            " [0.22420382]\n",
            " [0.3110828 ]\n",
            " [0.35732484]\n",
            " [0.45350318]\n",
            " [0.90955414]\n",
            " [0.5044586 ]\n",
            " [0.3388535 ]\n",
            " [0.55490446]\n",
            " [0.39640764]\n",
            " [0.35159236]\n",
            " [0.41528662]\n",
            " [0.1477707 ]\n",
            " [0.58089172]\n",
            " [0.2833121 ]\n",
            " [0.76815287]\n",
            " [0.45834395]\n",
            " [0.24968153]\n",
            " [0.37961783]\n",
            " [0.3133758 ]\n",
            " [0.25732484]\n",
            " [0.24968153]\n",
            " [0.3388535 ]\n",
            " [0.58089172]\n",
            " [0.97579618]\n",
            " [0.29808917]\n",
            " [0.15271338]\n",
            " [0.30063694]\n",
            " [0.24968153]\n",
            " [0.2343949 ]\n",
            " [0.20636943]\n",
            " [0.76127389]\n",
            " [0.04433121]\n",
            " [0.42802548]\n",
            " [0.32025478]\n",
            " [0.79464968]\n",
            " [0.73375796]\n",
            " [0.03057325]\n",
            " [0.3133758 ]\n",
            " [0.5322293 ]\n",
            " [0.04840764]\n",
            " [0.02038217]\n",
            " [0.36433121]\n",
            " [0.55541401]\n",
            " [0.85395822]\n",
            " [0.40254777]\n",
            " [0.82292994]\n",
            " [0.5044586 ]\n",
            " [0.00509554]\n",
            " [0.27515924]\n",
            " [0.75923567]\n",
            " [0.35617834]\n",
            " [0.03872611]\n",
            " [0.12738854]\n",
            " [0.19872611]\n",
            " [0.54267516]\n",
            " [0.2955414 ]\n",
            " [0.4035414 ]\n",
            " [0.61019108]\n",
            " [0.96305732]\n",
            " [0.13304459]\n",
            " [0.8866242 ]\n",
            " [0.47898089]\n",
            " [0.45057325]\n",
            " [0.27312102]\n",
            " [0.40254777]\n",
            " [0.96305732]\n",
            " [0.16050955]\n",
            " [0.99872611]\n",
            " [0.50451975]\n",
            " [0.54318471]\n",
            " [0.1477707 ]\n",
            " [0.40025478]\n",
            " [0.30063694]\n",
            " [0.27515924]\n",
            " [0.1355414 ]\n",
            " [0.2833121 ]\n",
            " [0.30063694]\n",
            " [0.19363057]\n",
            " [0.17238217]\n",
            " [0.03898089]\n",
            " [0.27515924]\n",
            " [0.3133758 ]\n",
            " [0.48585987]\n",
            " [0.15184713]\n",
            " [0.93757962]\n",
            " [0.64815287]\n",
            " [0.00764331]\n",
            " [0.60636943]\n",
            " [0.0333758 ]\n",
            " [0.19205096]\n",
            " [0.00840764]\n",
            " [0.26242038]\n",
            " [0.60127389]\n",
            " [0.61656051]\n",
            " [0.12152866]\n",
            " [0.56815287]\n",
            " [0.37707006]\n",
            " [0.30063694]\n",
            " [0.1477707 ]\n",
            " [0.10955414]\n",
            " [0.25299363]\n",
            " [0.26242038]\n",
            " [0.23949045]\n",
            " [0.99872611]\n",
            " [0.3388535 ]\n",
            " [0.41019108]\n",
            " [0.05859873]\n",
            " [0.17324841]\n",
            " [0.42165605]\n",
            " [0.93757962]\n",
            " [0.20993631]\n",
            " [0.0433121 ]\n",
            " [0.26242038]\n",
            " [0.78089172]\n",
            " [0.05095541]\n",
            " [0.23210191]\n",
            " [0.11210191]\n",
            " [0.38573248]\n",
            " [0.15286624]\n",
            " [0.01656051]\n",
            " [0.26600255]\n",
            " [0.50700637]\n",
            " [0.1355414 ]\n",
            " [0.60636943]\n",
            " [0.41528662]\n",
            " [0.16585987]\n",
            " [0.11898089]\n",
            " [0.19872611]\n",
            " [0.5044586 ]\n",
            " [0.35159236]\n",
            " [0.10955414]\n",
            " [0.1477707 ]\n",
            " [0.02038217]\n",
            " [0.24968153]\n",
            " [0.65656051]\n",
            " [0.47898089]\n",
            " [0.22420382]\n",
            " [0.55541401]\n",
            " [1.        ]\n",
            " [0.73546293]\n",
            " [0.45095541]\n",
            " [0.27067516]\n",
            " [0.25987261]\n",
            " [0.21169427]\n",
            " [0.31892994]\n",
            " [0.55541401]\n",
            " [0.64203822]\n",
            " [0.01528662]\n",
            " [0.30063694]\n",
            " [0.33375796]\n",
            " [0.83307006]\n",
            " [0.5604586 ]\n",
            " [0.29273885]\n",
            " [0.17324841]\n",
            " [0.20178344]\n",
            " [0.09401274]\n",
            " [0.31592357]\n",
            " [0.37707006]\n",
            " [0.58089172]\n",
            " [0.83566879]\n",
            " [0.23694268]\n",
            " [0.23464968]\n",
            " [0.10955414]\n",
            " [0.15286624]\n",
            " [0.13503185]\n",
            " [0.49171975]\n",
            " [0.21650955]\n",
            " [0.32101911]\n",
            " [0.4611465 ]\n",
            " [0.36738854]\n",
            " [0.17401274]\n",
            " [0.55541401]\n",
            " [0.5044586 ]\n",
            " [0.        ]\n",
            " [0.54267516]\n",
            " [0.35923567]\n",
            " [0.22165605]\n",
            " [0.58089172]\n",
            " [0.80840764]\n",
            " [0.24968153]\n",
            " [0.49171975]\n",
            " [0.5411465 ]\n",
            " [0.17324841]\n",
            " [0.35159236]\n",
            " [0.55541401]\n",
            " [0.68280255]\n",
            " [0.63184713]\n",
            " [0.3388535 ]\n",
            " [0.51638217]\n",
            " [0.12433121]\n",
            " [0.75923567]\n",
            " [0.68968153]\n",
            " [0.61579618]\n",
            " [0.46369427]\n",
            " [0.5044586 ]\n",
            " [0.25103185]\n",
            " [0.04152866]\n",
            " [0.41528662]\n",
            " [0.42802548]\n",
            " [0.26242038]\n",
            " [0.51898089]\n",
            " [0.39949045]\n",
            " [0.14089172]\n",
            " [0.3133758 ]\n",
            " [0.32611465]\n",
            " [0.14522293]\n",
            " [0.11974522]\n",
            " [0.15541401]\n",
            " [0.16615567]\n",
            " [0.35159236]\n",
            " [0.60127389]\n",
            " [0.22675159]\n",
            " [0.02547771]\n",
            " [0.35159236]\n",
            " [0.59363057]\n",
            " [0.15490446]\n",
            " [0.58089172]\n",
            " [0.5044586 ]\n",
            " [0.70828025]\n",
            " [0.37707006]\n",
            " [0.21910828]\n",
            " [0.24968153]\n",
            " [0.49146497]\n",
            " [0.12229299]\n",
            " [0.56107363]\n",
            " [0.68958675]\n",
            " [0.64504459]\n",
            " [0.58089172]\n",
            " [0.11210191]\n",
            " [0.44084076]\n",
            " [0.24968153]\n",
            " [0.28789809]\n",
            " [0.4       ]\n",
            " [0.37299363]\n",
            " [0.2089172 ]\n",
            " [0.60636943]\n",
            " [0.2155414 ]\n",
            " [0.00968153]\n",
            " [0.47464968]\n",
            " [0.30063694]\n",
            " [0.10955414]\n",
            " [0.51719745]\n",
            " [0.78063694]\n",
            " [0.52993631]\n",
            " [0.84106624]\n",
            " [0.28713376]]\n"
          ]
        }
      ]
    },
    {
      "cell_type": "code",
      "source": [
        "print(X_train.shape[0])\n",
        "print(X_test.shape[0])\n",
        "\n",
        "\n"
      ],
      "metadata": {
        "colab": {
          "base_uri": "https://localhost:8080/"
        },
        "id": "6AK9yUyvKISQ",
        "outputId": "97d13860-cfb6-42dc-ce63-14567158180c"
      },
      "execution_count": null,
      "outputs": [
        {
          "output_type": "stream",
          "name": "stdout",
          "text": [
            "264\n",
            "30\n"
          ]
        }
      ]
    },
    {
      "cell_type": "code",
      "source": [
        "#print(sorted(Counter(Y_train).items()))\n",
        "ros=RandomOverSampler(random_state=42)\n"
      ],
      "metadata": {
        "id": "hAyOi_KcKb5x"
      },
      "execution_count": null,
      "outputs": []
    },
    {
      "cell_type": "code",
      "source": [
        ""
      ],
      "metadata": {
        "id": "ZlhFL6F9PEaa"
      },
      "execution_count": null,
      "outputs": []
    },
    {
      "cell_type": "markdown",
      "source": [
        "**MODEL TRAINING**"
      ],
      "metadata": {
        "id": "thzE7uiP3gjt"
      }
    },
    {
      "cell_type": "markdown",
      "source": [
        "**1.Linear Regression**"
      ],
      "metadata": {
        "id": "npuIgoeM3o4Z"
      }
    },
    {
      "cell_type": "code",
      "source": [
        "#load model\n",
        "lin_reg_model=LinearRegression()"
      ],
      "metadata": {
        "id": "pLsKgw7z3uJ4"
      },
      "execution_count": null,
      "outputs": []
    },
    {
      "cell_type": "code",
      "source": [
        "lin_reg_model.fit(X_train,Y_train)"
      ],
      "metadata": {
        "colab": {
          "base_uri": "https://localhost:8080/"
        },
        "id": "jai9JX6x3_xe",
        "outputId": "de848191-8f04-47b5-ef42-7b689e27c17d"
      },
      "execution_count": null,
      "outputs": [
        {
          "output_type": "execute_result",
          "data": {
            "text/plain": [
              "LinearRegression()"
            ]
          },
          "metadata": {},
          "execution_count": 45
        }
      ]
    },
    {
      "cell_type": "markdown",
      "source": [
        "**MODEL EVALUATION**"
      ],
      "metadata": {
        "id": "dvq0CjumGCVJ"
      }
    },
    {
      "cell_type": "code",
      "source": [
        "#prediction on training data\n",
        "\n",
        "training_data_prediction=lin_reg_model.predict(X_train)"
      ],
      "metadata": {
        "id": "dsAkJLVqGEtx"
      },
      "execution_count": null,
      "outputs": []
    },
    {
      "cell_type": "code",
      "source": [
        "#R sqaured error,mean sqaure error,MAE ,RMSE\n",
        "error_score=metrics.r2_score(Y_train,training_data_prediction)\n",
        "print('R squared error ',error_score)\n",
        "error_score1=metrics.mean_squared_error(Y_train,training_data_prediction)\n",
        "print('Mean sqaure  error ',error_score1)\n",
        "error_score3=metrics.mean_absolute_error(Y_train,training_data_prediction)\n",
        "print('Mean Absolute  error ',error_score3)\n",
        "\n",
        "error_score4=metrics.mean_squared_error(Y_train,training_data_prediction)\n",
        "print('Root Mean sqaure  error ',error_score4)\n",
        "\n"
      ],
      "metadata": {
        "colab": {
          "base_uri": "https://localhost:8080/"
        },
        "id": "3MTPd9q5HP7a",
        "outputId": "e64ed180-3324-4a2a-e819-5ea428156d09"
      },
      "execution_count": null,
      "outputs": [
        {
          "output_type": "stream",
          "name": "stdout",
          "text": [
            "R squared error  0.5241271517392831\n",
            "Mean sqaure  error  0.02622588560464667\n",
            "Mean Absolute  error  0.11990789064481794\n",
            "Root Mean sqaure  error  0.02622588560464667\n"
          ]
        }
      ]
    },
    {
      "cell_type": "markdown",
      "source": [
        "**Visualize the actual price and predicted price**"
      ],
      "metadata": {
        "id": "gaw4Y_HLJLzr"
      }
    },
    {
      "cell_type": "code",
      "source": [
        "plt.scatter(Y_train,training_data_prediction)\n",
        "plt.xlabel(\"Actual Price\")\n",
        "plt.ylabel(\"Predicted Price\")\n",
        "plt.title(\"Actual price vs Predicted Price \")\n",
        "plt.show()\n"
      ],
      "metadata": {
        "colab": {
          "base_uri": "https://localhost:8080/",
          "height": 294
        },
        "id": "aB0nQeZPJRUz",
        "outputId": "6c347e05-1730-44bd-ba02-c8575a7cd6bb"
      },
      "execution_count": null,
      "outputs": [
        {
          "output_type": "display_data",
          "data": {
            "image/png": "[encoded data removed]",
            "text/plain": [
              "<Figure size 432x288 with 1 Axes>"
            ]
          },
          "metadata": {
            "needs_background": "light"
          }
        }
      ]
    },
    {
      "cell_type": "code",
      "source": [
        "#prediction on test data\n",
        "test_data_prediction=lin_reg_model.predict(X_test)\n"
      ],
      "metadata": {
        "id": "moTpF3_PVMED"
      },
      "execution_count": null,
      "outputs": []
    },
    {
      "cell_type": "code",
      "source": [
        "#R sqaured error\n",
        "error_score=metrics.r2_score(Y_test,test_data_prediction)\n",
        "print('R squared error ',error_score)\n",
        "error_score1=metrics.mean_squared_error(Y_test,test_data_prediction)\n",
        "print('Mean sqaure  error ',error_score1)\n",
        "error_score3=metrics.mean_absolute_error(Y_test,test_data_prediction)\n",
        "print('Mean Absolute  error ',error_score3)\n",
        "\n",
        "error_score4=metrics.mean_squared_error(Y_test,test_data_prediction)\n",
        "print('Root Mean sqaure  error ',error_score4)\n"
      ],
      "metadata": {
        "colab": {
          "base_uri": "https://localhost:8080/"
        },
        "id": "6G6p67sHVlgD",
        "outputId": "c8569f18-d65e-4f46-9bed-0df5d6d23477"
      },
      "execution_count": null,
      "outputs": [
        {
          "output_type": "stream",
          "name": "stdout",
          "text": [
            "R squared error  0.5270490825619254\n",
            "Mean sqaure  error  0.03497527880622799\n",
            "Mean Absolute  error  0.13238688272642377\n",
            "Root Mean sqaure  error  0.03497527880622799\n"
          ]
        }
      ]
    },
    {
      "cell_type": "markdown",
      "source": [
        "Lasso Regression\n"
      ],
      "metadata": {
        "id": "zckM-D60asvV"
      }
    },
    {
      "cell_type": "code",
      "source": [
        "#load model\n",
        "lass_reg_model= Lasso()"
      ],
      "metadata": {
        "id": "af17ZV-5bV2t"
      },
      "execution_count": null,
      "outputs": []
    },
    {
      "cell_type": "code",
      "source": [
        "lass_reg_model.fit(X_train,Y_train)"
      ],
      "metadata": {
        "colab": {
          "base_uri": "https://localhost:8080/"
        },
        "outputId": "940598ba-93ac-41cb-fded-fbb90a7abaf2",
        "id": "Wef58B4KbV20"
      },
      "execution_count": null,
      "outputs": [
        {
          "output_type": "execute_result",
          "data": {
            "text/plain": [
              "Lasso()"
            ]
          },
          "metadata": {},
          "execution_count": 52
        }
      ]
    },
    {
      "cell_type": "markdown",
      "source": [
        "**MODEL EVALUATION**"
      ],
      "metadata": {
        "id": "fpx3sBu-bV20"
      }
    },
    {
      "cell_type": "code",
      "source": [
        "#prediction on training data\n",
        "\n",
        "training_data_prediction=lass_reg_model.predict(X_train)"
      ],
      "metadata": {
        "id": "R0LCGsUObV20"
      },
      "execution_count": null,
      "outputs": []
    },
    {
      "cell_type": "code",
      "source": [
        "#R sqaured error\n",
        "error_score=metrics.r2_score(Y_train,training_data_prediction)\n",
        "print('R squared error ',error_score)\n",
        "error_score1=metrics.mean_squared_error(Y_train,training_data_prediction)\n",
        "print('Mean sqaure  error ',error_score1)\n",
        "error_score3=metrics.mean_absolute_error(Y_train,training_data_prediction)\n",
        "print('Mean Absolute  error ',error_score3)\n",
        "\n",
        "error_score4=metrics.mean_squared_error(Y_train,training_data_prediction)\n",
        "print('Root Mean sqaure  error ',error_score4)\n"
      ],
      "metadata": {
        "colab": {
          "base_uri": "https://localhost:8080/"
        },
        "outputId": "5ba3ba2e-06a8-4981-bad5-5d5e87999c2b",
        "id": "r-b_FYp7bV21"
      },
      "execution_count": null,
      "outputs": [
        {
          "output_type": "stream",
          "name": "stdout",
          "text": [
            "R squared error  0.0\n",
            "Mean sqaure  error  0.05511111991470099\n",
            "Mean Absolute  error  0.19061761960952903\n",
            "Root Mean sqaure  error  0.05511111991470099\n"
          ]
        }
      ]
    },
    {
      "cell_type": "markdown",
      "source": [
        "**Visualize the actual price and predicted price**"
      ],
      "metadata": {
        "id": "Ya7fq58IbV21"
      }
    },
    {
      "cell_type": "code",
      "source": [
        "plt.scatter(Y_train,training_data_prediction)\n",
        "plt.xlabel(\"Actual Price\")\n",
        "plt.ylabel(\"Predicted Price\")\n",
        "plt.title(\"Actual price vs Predicted Price \")\n",
        "plt.show()\n"
      ],
      "metadata": {
        "colab": {
          "base_uri": "https://localhost:8080/",
          "height": 294
        },
        "outputId": "05db7e1a-5316-4ed9-f378-d02d894530e0",
        "id": "quiyTwIXbV21"
      },
      "execution_count": null,
      "outputs": [
        {
          "output_type": "display_data",
          "data": {
            "image/png": "[encoded data removed]",
            "text/plain": [
              "<Figure size 432x288 with 1 Axes>"
            ]
          },
          "metadata": {
            "needs_background": "light"
          }
        }
      ]
    },
    {
      "cell_type": "code",
      "source": [
        "#prediction on test data\n",
        "test_data_prediction=lass_reg_model.predict(X_test)\n"
      ],
      "metadata": {
        "id": "dgGDwYdUbV21"
      },
      "execution_count": null,
      "outputs": []
    },
    {
      "cell_type": "code",
      "source": [
        "#R sqaured error\n",
        "error_score=metrics.r2_score(Y_test,test_data_prediction)\n",
        "print('R squared error ',error_score)\n",
        "error_score1=metrics.mean_squared_error(Y_test,test_data_prediction)\n",
        "print('Mean sqaure  error ',error_score1)\n",
        "error_score3=metrics.mean_absolute_error(Y_test,test_data_prediction)\n",
        "print('Mean Absolute  error ',error_score3)\n",
        "\n",
        "error_score4=metrics.mean_squared_error(Y_test,test_data_prediction)\n",
        "print('Root Mean sqaure  error ',error_score4)\n"
      ],
      "metadata": {
        "colab": {
          "base_uri": "https://localhost:8080/"
        },
        "outputId": "a2be5801-5f71-42c1-877c-775f7d7bce9d",
        "id": "t0zhEh7LbV22"
      },
      "execution_count": null,
      "outputs": [
        {
          "output_type": "stream",
          "name": "stdout",
          "text": [
            "R squared error  -1.8126155418629608e-05\n",
            "Mean sqaure  error  0.07395252125321647\n",
            "Mean Absolute  error  0.22277994848363847\n",
            "Root Mean sqaure  error  0.07395252125321647\n"
          ]
        }
      ]
    },
    {
      "cell_type": "code",
      "source": [
        "plt.scatter(Y_test,test_data_prediction)\n",
        "plt.xlabel(\"Actual Price\")\n",
        "plt.ylabel(\"Predicted Price\")\n",
        "plt.title(\"Actual price vs Predicted Price \")\n",
        "plt.show()"
      ],
      "metadata": {
        "colab": {
          "base_uri": "https://localhost:8080/",
          "height": 295
        },
        "outputId": "32780389-192e-4431-e517-332d3cd20340",
        "id": "2ilBh0wabV22"
      },
      "execution_count": null,
      "outputs": [
        {
          "output_type": "display_data",
          "data": {
            "image/png": "[encoded data removed]",
            "text/plain": [
              "<Figure size 432x288 with 1 Axes>"
            ]
          },
          "metadata": {
            "needs_background": "light"
          }
        }
      ]
    },
    {
      "cell_type": "code",
      "source": [
        ""
      ],
      "metadata": {
        "id": "cD2aHgPLVUTC"
      },
      "execution_count": null,
      "outputs": []
    },
    {
      "cell_type": "markdown",
      "source": [
        "**DEcision Tree**"
      ],
      "metadata": {
        "id": "_xTbQKkkPcNm"
      }
    },
    {
      "cell_type": "code",
      "source": [
        "#load model\n",
        "dt=DecisionTreeRegressor(random_state=42)\n",
        "\n"
      ],
      "metadata": {
        "id": "sPiHd5BfQNvU"
      },
      "execution_count": null,
      "outputs": []
    },
    {
      "cell_type": "code",
      "source": [
        "\n",
        "dt.fit(X_train,Y_train)"
      ],
      "metadata": {
        "colab": {
          "base_uri": "https://localhost:8080/"
        },
        "id": "RBsN7Y2GRXoz",
        "outputId": "81320fe2-b59f-4410-bfd0-456c8d6b2ae2"
      },
      "execution_count": null,
      "outputs": [
        {
          "output_type": "execute_result",
          "data": {
            "text/plain": [
              "DecisionTreeRegressor(random_state=42)"
            ]
          },
          "metadata": {},
          "execution_count": 38
        }
      ]
    },
    {
      "cell_type": "code",
      "source": [
        "#prediction on training data\n",
        "\n",
        "training_data_prediction=dt.predict(X_train)"
      ],
      "metadata": {
        "id": "kIFmXc7lUcBp"
      },
      "execution_count": null,
      "outputs": []
    },
    {
      "cell_type": "code",
      "source": [
        "#R sqaured error\n",
        "error_score=metrics.r2_score(Y_train,training_data_prediction)\n",
        "\n",
        "\n",
        "print('R squared error ',error_score)\n",
        "error_score1=metrics.mean_squared_error(Y_train,training_data_prediction)\n",
        "print('Mean sqaure  error ',error_score1)\n",
        "error_score3=metrics.mean_absolute_error(Y_train,training_data_prediction)\n",
        "print('Mean Absolute  error ',error_score3)\n",
        "\n",
        "error_score4=metrics.mean_squared_error(Y_train,training_data_prediction)\n",
        "print('Root Mean sqaure  error ',error_score4)\n",
        "\n",
        "\n",
        "\n"
      ],
      "metadata": {
        "colab": {
          "base_uri": "https://localhost:8080/"
        },
        "id": "PSx_r3lFUpzs",
        "outputId": "80642fb4-f30d-4c37-9381-7c899d8a2f0c"
      },
      "execution_count": null,
      "outputs": [
        {
          "output_type": "stream",
          "name": "stdout",
          "text": [
            "R squared error  0.9940608701352542\n",
            "Mean sqaure  error  0.00032731209816498375\n",
            "Mean Absolute  error  0.0033533024512642363\n",
            "Root Mean sqaure  error  0.00032731209816498375\n"
          ]
        }
      ]
    },
    {
      "cell_type": "code",
      "source": [
        "plt.scatter(Y_train,training_data_prediction)\n",
        "plt.xlabel(\"Actual Price\")\n",
        "plt.ylabel(\"Predicted Price\")\n",
        "plt.title(\"Actual price vs Predicted Price \")\n",
        "plt.show()"
      ],
      "metadata": {
        "colab": {
          "base_uri": "https://localhost:8080/",
          "height": 294
        },
        "id": "8t3NVKJwVkaz",
        "outputId": "11afd1ad-5dea-4751-e8a8-4efa924c0d25"
      },
      "execution_count": null,
      "outputs": [
        {
          "output_type": "display_data",
          "data": {
            "image/png": "[encoded data removed]",
            "text/plain": [
              "<Figure size 432x288 with 1 Axes>"
            ]
          },
          "metadata": {
            "needs_background": "light"
          }
        }
      ]
    },
    {
      "cell_type": "code",
      "source": [
        "#prediction on test data\n",
        "test_data_prediction=dt.predict(X_test)\n",
        "#R sqaured error\n",
        "error_score=metrics.r2_score(Y_test,test_data_prediction)\n",
        "error_score1=metrics.mean_squared_error(Y_test,test_data_prediction)\n",
        "error_score3=metrics.mean_absolute_error(Y_test,test_data_prediction)\n",
        "\n",
        "error_score4=metrics.mean_squared_error(Y_test,test_data_prediction)\n",
        "\n",
        "print('R squared error ',error_score)\n",
        "print('mean Sqaured Error',error_score1)\n",
        "print('Mean Absolute  error ',error_score3)\n",
        "print('Root Mean sqaure  error ',error_score4)\n"
      ],
      "metadata": {
        "colab": {
          "base_uri": "https://localhost:8080/"
        },
        "id": "BEIQCqZ7V3fa",
        "outputId": "f198b306-ae40-43cb-b14f-e37940bd81ad"
      },
      "execution_count": null,
      "outputs": [
        {
          "output_type": "stream",
          "name": "stdout",
          "text": [
            "R squared error  0.36368813367740194\n",
            "mean Sqaured Error 0.047056013873274925\n",
            "Mean Absolute  error  0.16056443039753246\n",
            "Root Mean sqaure  error  0.047056013873274925\n"
          ]
        }
      ]
    },
    {
      "cell_type": "markdown",
      "source": [
        "**Random Forest**"
      ],
      "metadata": {
        "id": "qQI3bU9jW2we"
      }
    },
    {
      "cell_type": "code",
      "source": [
        "rf=RandomForestRegressor()"
      ],
      "metadata": {
        "id": "Q8GXAFX5W6WH"
      },
      "execution_count": null,
      "outputs": []
    },
    {
      "cell_type": "code",
      "source": [
        "rf.fit(X_train,Y_train)"
      ],
      "metadata": {
        "colab": {
          "base_uri": "https://localhost:8080/"
        },
        "id": "wQlwz8xLXfBP",
        "outputId": "2d0f2c53-1b1e-45d4-f475-4ce9d15aaa6c"
      },
      "execution_count": null,
      "outputs": [
        {
          "output_type": "stream",
          "name": "stderr",
          "text": [
            "/usr/local/lib/python3.7/dist-packages/ipykernel_launcher.py:1: DataConversionWarning: A column-vector y was passed when a 1d array was expected. Please change the shape of y to (n_samples,), for example using ravel().\n",
            "  \"\"\"Entry point for launching an IPython kernel.\n"
          ]
        },
        {
          "output_type": "execute_result",
          "data": {
            "text/plain": [
              "RandomForestRegressor()"
            ]
          },
          "metadata": {},
          "execution_count": 26
        }
      ]
    },
    {
      "cell_type": "code",
      "source": [
        "y_pred=rf.predict(X_train)"
      ],
      "metadata": {
        "id": "lknty2a-Xzgo"
      },
      "execution_count": null,
      "outputs": []
    },
    {
      "cell_type": "code",
      "source": [
        "#R sqaured error\n",
        "error_score=metrics.r2_score(Y_train,y_pred)\n",
        "\n",
        "error_score1=metrics.mean_squared_error(Y_train,y_pred)\n",
        "error_score3=metrics.mean_absolute_error(Y_train,y_pred)\n",
        "\n",
        "error_score4=metrics.mean_squared_error(Y_train,y_pred)\n",
        "\n",
        "print('R squared error ',error_score)\n",
        "print('mean Sqaured Error',error_score1)\n",
        "print('Mean Absolute  error ',error_score3)\n",
        "print('Root Mean sqaure  error ',error_score4)\n",
        "\n"
      ],
      "metadata": {
        "colab": {
          "base_uri": "https://localhost:8080/"
        },
        "id": "JU01uD4fYFFx",
        "outputId": "5fbfed43-0067-4876-a74a-8e108add6cb0"
      },
      "execution_count": null,
      "outputs": [
        {
          "output_type": "stream",
          "name": "stdout",
          "text": [
            "R squared error  0.9456257329323398\n",
            "mean Sqaured Error 0.002996626752639798\n",
            "Mean Absolute  error  0.037909618342938024\n",
            "Root Mean sqaure  error  0.002996626752639798\n"
          ]
        }
      ]
    },
    {
      "cell_type": "code",
      "source": [
        "#prediction on test data\n",
        "y_tpred=rf.predict(X_test)\n",
        "#R sqaured error\n",
        "error_score=metrics.r2_score(Y_test,y_tpred)\n",
        "error_score1=metrics.mean_squared_error(Y_test,y_tpred)\n",
        "error_score3=metrics.mean_absolute_error(Y_test,y_tpred)\n",
        "\n",
        "error_score4=metrics.mean_squared_error(Y_test,y_tpred)\n",
        "\n",
        "\n",
        "\n",
        "print('R squared error ',error_score)\n",
        "print('mean Sqaured Error',error_score1)\n",
        "print('Mean Absolute  error ',error_score3)\n",
        "print('Root Mean sqaure  error ',error_score4)\n"
      ],
      "metadata": {
        "colab": {
          "base_uri": "https://localhost:8080/"
        },
        "id": "2OPwNnFPYKTZ",
        "outputId": "7701a8bc-a34d-45a6-876f-32c605f90446"
      },
      "execution_count": null,
      "outputs": [
        {
          "output_type": "stream",
          "name": "stdout",
          "text": [
            "R squared error  0.4789714126158765\n",
            "mean Sqaured Error 0.03853067926897693\n",
            "Mean Absolute  error  0.1513024549815899\n",
            "Root Mean sqaure  error  0.03853067926897693\n"
          ]
        }
      ]
    },
    {
      "cell_type": "markdown",
      "source": [
        "**SVM REGressor**"
      ],
      "metadata": {
        "id": "1Li9ygAaYcAW"
      }
    },
    {
      "cell_type": "code",
      "source": [
        "#\n",
        "regressor=SVR(kernel='poly')"
      ],
      "metadata": {
        "id": "eGnDqNEyZTXF"
      },
      "execution_count": null,
      "outputs": []
    },
    {
      "cell_type": "code",
      "source": [
        "regressor.fit(X_train,Y_train)"
      ],
      "metadata": {
        "colab": {
          "base_uri": "https://localhost:8080/"
        },
        "id": "xXbItAFbZfkQ",
        "outputId": "cf7d948d-d3bf-4e4f-dd55-a4a6d55c50f7"
      },
      "execution_count": null,
      "outputs": [
        {
          "output_type": "stream",
          "name": "stderr",
          "text": [
            "/usr/local/lib/python3.7/dist-packages/sklearn/utils/validation.py:993: DataConversionWarning: A column-vector y was passed when a 1d array was expected. Please change the shape of y to (n_samples, ), for example using ravel().\n",
            "  y = column_or_1d(y, warn=True)\n"
          ]
        },
        {
          "output_type": "execute_result",
          "data": {
            "text/plain": [
              "SVR(kernel='poly')"
            ]
          },
          "metadata": {},
          "execution_count": 33
        }
      ]
    },
    {
      "cell_type": "code",
      "source": [
        "Y_pred=regressor.predict(X_train)"
      ],
      "metadata": {
        "id": "IfoJ68z7ZkC7"
      },
      "execution_count": null,
      "outputs": []
    },
    {
      "cell_type": "code",
      "source": [
        "#R sqaured error\n",
        "error_score=metrics.r2_score(Y_train,Y_pred)\n",
        "\n",
        "error_score1=metrics.mean_squared_error(Y_train,Y_pred)\n",
        "error_score3=metrics.mean_absolute_error(Y_train,Y_pred)\n",
        "\n",
        "error_score4=metrics.mean_squared_error(Y_train,Y_pred)\n",
        "print('R squared error ',error_score)\n",
        "print('mean Sqaured Error',error_score1)\n",
        "print('Mean Absolute  error ',error_score3)\n",
        "print('Root Mean sqaure  error ',error_score4)\n",
        "\n",
        "\n"
      ],
      "metadata": {
        "colab": {
          "base_uri": "https://localhost:8080/"
        },
        "id": "KAjhMjD0Zwf4",
        "outputId": "103636ac-03e0-484b-9999-6cc0f80f0bd9"
      },
      "execution_count": null,
      "outputs": [
        {
          "output_type": "stream",
          "name": "stdout",
          "text": [
            "R squared error  0.6715356830013404\n",
            "mean Sqaured Error 0.018102036361813487\n",
            "Mean Absolute  error  0.09898803162642275\n",
            "Root Mean sqaure  error  0.018102036361813487\n"
          ]
        }
      ]
    },
    {
      "cell_type": "code",
      "source": [
        "#prediction on test data\n",
        "y_tpred=rf.predict(X_test)\n",
        "#R sqaured error\n",
        "error_score=metrics.r2_score(Y_test,y_tpred)\n",
        "error_score1=metrics.mean_squared_error(Y_test,y_tpred)\n",
        "error_score3=metrics.mean_absolute_error(Y_test,y_tpred)\n",
        "\n",
        "error_score4=metrics.mean_squared_error(Y_test,y_tpred)\n",
        "print('R squared error ',error_score)\n",
        "print('mean Sqaured Error',error_score1)\n",
        "print('Mean Absolute  error ',error_score3)\n",
        "print('Root Mean sqaure  error ',error_score4)\n",
        "\n"
      ],
      "metadata": {
        "colab": {
          "base_uri": "https://localhost:8080/"
        },
        "id": "XlWAW2kKaC5L",
        "outputId": "1aa5bbfd-58e3-404e-aaac-7c42c64b97ae"
      },
      "execution_count": null,
      "outputs": [
        {
          "output_type": "stream",
          "name": "stdout",
          "text": [
            "R squared error  0.4789714126158765\n",
            "mean Sqaured Error 0.03853067926897693\n",
            "Mean Absolute  error  0.1513024549815899\n",
            "Root Mean sqaure  error  0.03853067926897693\n"
          ]
        }
      ]
    },
    {
      "cell_type": "markdown",
      "source": [
        "**K-Nearest Neighbours**\n"
      ],
      "metadata": {
        "id": "HGhr-1w6vHT4"
      }
    },
    {
      "cell_type": "code",
      "source": [
        "knn=KNeighborsRegressor(n_neighbors=15)\n"
      ],
      "metadata": {
        "id": "RWGrBMYDvNEt"
      },
      "execution_count": null,
      "outputs": []
    },
    {
      "cell_type": "code",
      "source": [
        "knn.fit(X_train,Y_train)"
      ],
      "metadata": {
        "colab": {
          "base_uri": "https://localhost:8080/"
        },
        "id": "dLyfikXxxPjR",
        "outputId": "179c1a42-f8b8-43a5-b88e-d6db2c55ac14"
      },
      "execution_count": null,
      "outputs": [
        {
          "output_type": "execute_result",
          "data": {
            "text/plain": [
              "KNeighborsRegressor(n_neighbors=15)"
            ]
          },
          "metadata": {},
          "execution_count": 19
        }
      ]
    },
    {
      "cell_type": "code",
      "source": [
        "Y_pred=knn.predict(X_train)"
      ],
      "metadata": {
        "id": "xVf0dPkzxlgj"
      },
      "execution_count": null,
      "outputs": []
    },
    {
      "cell_type": "code",
      "source": [
        "#R sqaured error\n",
        "error_score=metrics.r2_score(Y_train,Y_pred)\n",
        "\n",
        "error_score1=metrics.mean_squared_error(Y_train,Y_pred)\n",
        "error_score3=metrics.mean_absolute_error(Y_train,Y_pred)\n",
        "\n",
        "error_score4=metrics.mean_squared_error(Y_train,Y_pred)\n",
        "print('R squared error ',error_score)\n",
        "print('mean Sqaured Error',error_score1)\n",
        "print('Mean Absolute  error ',error_score3)\n",
        "print('Root Mean sqaure  error ',error_score4)\n"
      ],
      "metadata": {
        "colab": {
          "base_uri": "https://localhost:8080/"
        },
        "id": "E23eGPDI3Gfy",
        "outputId": "704fb246-b755-40ac-c49f-4a495637b22a"
      },
      "execution_count": null,
      "outputs": [
        {
          "output_type": "stream",
          "name": "stdout",
          "text": [
            "R squared error  0.5865761106636718\n",
            "mean Sqaured Error 0.02278425354081646\n",
            "Mean Absolute  error  0.11430225587081003\n",
            "Root Mean sqaure  error  0.02278425354081646\n"
          ]
        }
      ]
    },
    {
      "cell_type": "code",
      "source": [
        "#prediction on test data\n",
        "y_tpred=knn.predict(X_test)\n",
        "#R sqaured error\n",
        "error_score=metrics.r2_score(Y_test,y_tpred)\n",
        "error_score1=metrics.mean_squared_error(Y_test,y_tpred)\n",
        "error_score3=metrics.mean_absolute_error(Y_test,y_tpred)\n",
        "\n",
        "error_score4=metrics.mean_squared_error(Y_test,y_tpred)\n",
        "print('R squared error ',error_score)\n",
        "print('mean Sqaured Error',error_score1)\n",
        "print('Mean Absolute  error ',error_score3)\n",
        "print('Root Mean sqaure  error ',error_score4)\n"
      ],
      "metadata": {
        "colab": {
          "base_uri": "https://localhost:8080/"
        },
        "id": "HGu4ZchO3OQb",
        "outputId": "1e1eccb4-48b6-490e-fc49-9637907e06dd"
      },
      "execution_count": null,
      "outputs": [
        {
          "output_type": "stream",
          "name": "stdout",
          "text": [
            "R squared error  0.43242601046077256\n",
            "mean Sqaured Error 0.04197276671927967\n",
            "Mean Absolute  error  0.15424260277520926\n",
            "Root Mean sqaure  error  0.04197276671927967\n"
          ]
        }
      ]
    },
    {
      "cell_type": "markdown",
      "source": [
        ""
      ],
      "metadata": {
        "id": "VC0c2iRftwDB"
      }
    }
  ]
}